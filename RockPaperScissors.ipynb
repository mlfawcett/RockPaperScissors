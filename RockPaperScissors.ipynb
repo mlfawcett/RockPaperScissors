{
 "cells": [
  {
   "cell_type": "code",
   "execution_count": null,
   "metadata": {},
   "outputs": [
    {
     "name": "stdout",
     "output_type": "stream",
     "text": [
      "Choose: Rock = 1, Paper = 2, Scissors = 3  -->1\n",
      "That was a tie.\n",
      "Score is:  You  0  Computer 0\n",
      "Do you want to play again? y/n --> y\n",
      "Choose: Rock = 1, Paper = 2, Scissors = 3  -->1\n",
      "You lost.\n",
      "Score is:  You  0  Computer 1\n",
      "Do you want to play again? y/n --> y\n",
      "Choose: Rock = 1, Paper = 2, Scissors = 3  -->1\n",
      "That was a tie.\n",
      "Score is:  You  0  Computer 1\n",
      "Do you want to play again? y/n --> y\n",
      "Choose: Rock = 1, Paper = 2, Scissors = 3  -->1\n",
      "You lost.\n",
      "Score is:  You  0  Computer 2\n",
      "Do you want to play again? y/n --> y\n",
      "Choose: Rock = 1, Paper = 2, Scissors = 3  -->1\n",
      "You won!\n",
      "Score is:  You  1  Computer 2\n"
     ]
    }
   ],
   "source": [
    "import random\n",
    "\n",
    "score = [0,0]\n",
    "\n",
    "def RollCptDice():\n",
    "    CptChoice = [\"1\",\"2\",\"3\"]\n",
    "    computer = random.choice(CptChoice)\n",
    "    return computer\n",
    "\n",
    "def PlyrChoice():\n",
    "    player = input(\"Choose: Rock = 1, Paper = 2, Scissors = 3  -->\")\n",
    "    return player\n",
    "\n",
    "def PlyrWins(player, computer):     # 0 tie, 1 player wins, 2 computer wins\n",
    "    if player == '1':\n",
    "        if computer == '1':\n",
    "            return 0\n",
    "        elif computer == '2':\n",
    "            return 2\n",
    "        else:\n",
    "            return 1\n",
    "    elif player == '2':\n",
    "        if computer == '1':\n",
    "            return 2\n",
    "        elif computer == '2':\n",
    "            return 0\n",
    "        else:\n",
    "            return 1\n",
    "    else:\n",
    "        if computer == '1':\n",
    "            return 2\n",
    "        elif computer == '2':\n",
    "            return 1\n",
    "        else:\n",
    "            return 0\n",
    "\n",
    "while True:\n",
    "    cmptrChoice = RollCptDice()\n",
    "#    print(cmptrChoice)\n",
    "    plyrChoice = PlyrChoice()\n",
    "#    print(plyrChoice)\n",
    "    result = PlyrWins(plyrChoice, cmptrChoice)\n",
    "#    print(result)\n",
    "    if result == 0:\n",
    "        print(\"That was a tie.\")\n",
    "    elif result == 1:\n",
    "        print(\"You won!\")\n",
    "        score[0] = score[0] + 1\n",
    "    else:\n",
    "        print(\"You lost.\")\n",
    "        score[1] = score[1] + 1\n",
    "        \n",
    "    print(\"Score is:  You \", score[0], \" Computer\", score[1])\n",
    "    keepgoing = input(\"Do you want to play again? y/n --> \")\n",
    "    if keepgoing == \"n\":\n",
    "        break\n",
    "    else:\n",
    "        continue\n",
    "    \n",
    "       \n",
    "print(\"Thank you for playing.  Goodbye.\")"
   ]
  },
  {
   "cell_type": "code",
   "execution_count": null,
   "metadata": {},
   "outputs": [],
   "source": []
  }
 ],
 "metadata": {
  "kernelspec": {
   "display_name": "Python 3",
   "language": "python",
   "name": "python3"
  },
  "language_info": {
   "codemirror_mode": {
    "name": "ipython",
    "version": 3
   },
   "file_extension": ".py",
   "mimetype": "text/x-python",
   "name": "python",
   "nbconvert_exporter": "python",
   "pygments_lexer": "ipython3",
   "version": "3.7.6"
  }
 },
 "nbformat": 4,
 "nbformat_minor": 4
}
